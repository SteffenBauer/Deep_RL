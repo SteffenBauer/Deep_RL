{
 "cells": [
  {
   "cell_type": "code",
   "execution_count": null,
   "metadata": {},
   "outputs": [],
   "source": [
    "import ipywidgets\n",
    "\n",
    "import rl.games.catch\n",
    "import rl.games.fruit\n",
    "import rl.games.snake\n",
    "import rl.games.tromis\n",
    "import rl.tools.gui"
   ]
  },
  {
   "cell_type": "code",
   "execution_count": null,
   "metadata": {},
   "outputs": [],
   "source": [
    "game = rl.games.catch.Catch(grid_size=16)\n",
    "#game = rl.games.fruit.Fruit(with_border=False, with_poison=True)\n",
    "#game = rl.games.snake.Snake(grid_size=12)\n",
    "#game = rl.games.tromis.Tromis(width=7, height=9)\n",
    "\n",
    "gui = rl.tools.gui.GameGUI(game)\n",
    "display(gui.gamebox)"
   ]
  },
  {
   "cell_type": "code",
   "execution_count": null,
   "metadata": {},
   "outputs": [],
   "source": []
  }
 ],
 "metadata": {
  "kernelspec": {
   "display_name": "Python 3",
   "language": "python",
   "name": "python3"
  },
  "language_info": {
   "codemirror_mode": {
    "name": "ipython",
    "version": 3
   },
   "file_extension": ".py",
   "mimetype": "text/x-python",
   "name": "python",
   "nbconvert_exporter": "python",
   "pygments_lexer": "ipython3",
   "version": "3.5.2"
  }
 },
 "nbformat": 4,
 "nbformat_minor": 4
}
