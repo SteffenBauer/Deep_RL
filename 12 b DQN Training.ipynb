{
 "cells": [
  {
   "cell_type": "code",
   "execution_count": null,
   "metadata": {
    "scrolled": false
   },
   "outputs": [],
   "source": [
    "import os, io, threading, time\n",
    "\n",
    "os.environ['TF_CPP_MIN_LOG_LEVEL'] = '3'\n",
    "os.environ['TF_FORCE_GPU_ALLOW_GROWTH'] = 'true'\n",
    "\n",
    "import ipywidgets\n",
    "import PIL, PIL.Image\n",
    "import bqplot, bqplot.pyplot\n",
    "import numpy as np\n",
    "\n",
    "import tensorflow as tf\n",
    "import tensorflow.keras as keras\n",
    "tf.get_logger().setLevel('ERROR')\n",
    "\n",
    "import rl.games.catch\n",
    "import rl.games.fruit\n",
    "import rl.games.snake\n",
    "import rl.games.tromis\n",
    "import rl.tools.gui\n",
    "import rl.callbacks.callbacks\n",
    "import rl.callbacks.gamestore\n",
    "import rl.agents.ddqn\n",
    "import rl.memory.basicmemory\n",
    "import rl.memory.uniqmemory"
   ]
  },
  {
   "cell_type": "code",
   "execution_count": null,
   "metadata": {},
   "outputs": [],
   "source": [
    "class GamePlot(threading.Thread):\n",
    "    def __init__(self, width, height, gameQueue):\n",
    "        threading.Thread.__init__(self, name=\"GamePlot\")\n",
    "        self.gameQueue = gameQueue\n",
    "        self.imbuf = io.BytesIO()\n",
    "        rx, ry = (256, int(height*256/width)) if (width > height) else (int(width*256/height), 256)\n",
    "        self.canvas = ipywidgets.Image(width=rx, height=ry)\n",
    "        initframe = np.zeros((width,height,3))\n",
    "        self.plot_frame(initframe)\n",
    "    def run(self):\n",
    "        while not stopEvent.isSet():\n",
    "            try: game = self.gameQueue.pop()\n",
    "            except IndexError: time.sleep(0.1)\n",
    "            else:\n",
    "                for frame in game:\n",
    "                    self.plot_frame(frame[0])\n",
    "                    time.sleep(0.1)\n",
    "                time.sleep(0.5)\n",
    "    def plot_frame(self, frame):\n",
    "        self.imbuf.seek(0)\n",
    "        fx, fy = frame.shape[0], frame.shape[1]\n",
    "        rx, ry = (256, int(fy*256/fx)) if (fx > fy) else (int(fx*256/fy), 256)\n",
    "        PIL.Image.fromarray((frame*255).astype('uint8')).resize((ry, rx), resample=PIL.Image.NEAREST).save(self.imbuf, 'gif')\n",
    "        self.canvas.value = self.imbuf.getvalue()"
   ]
  },
  {
   "cell_type": "code",
   "execution_count": null,
   "metadata": {
    "scrolled": false
   },
   "outputs": [],
   "source": [
    "class HistoryPlot(rl.callbacks.callbacks.Callback):\n",
    "    def __init__(self, epochs):\n",
    "        self.win_ratio = []\n",
    "        self.avg_score = []\n",
    "        self.epochs = epochs\n",
    "        self.axes_avg = {'x': {'label': 'Epochs'}, \n",
    "                    'y': {'label': 'Avg Score', 'label_offset': '50px', 'tick_style': {'font-size': 11} }\n",
    "                   }\n",
    "        self.avg_plt  = bqplot.pyplot.figure()\n",
    "        self.avg_plt.layout = {\"height\": \"256px\", \"width\": \"512px\"}\n",
    "        self.avg_plt.fig_margin = {\"top\":10, \"bottom\":30, \"left\":60, \"right\":0}\n",
    "        self.avg_plt.min_aspect_ratio = 512.0/256.0\n",
    "        self.avg_plt.max_aspect_ratio = 512.0/256.0\n",
    "        bqplot.pyplot.scales(scales={'x': bqplot.scales.LinearScale(min=0,max=self.epochs)}) #, 'y': bqplot.scales.LinearScale(min=0.0,max=1.0)})\n",
    "        #bqplot.pyplot.plot([0,self.epochs],[0.0,0.0], axes_options=self.axes_win)\n",
    "        bqplot.pyplot.plot([0],[0.0], axes_options=self.axes_avg)\n",
    "        \n",
    "    def epoch_end(self, *args):\n",
    "        model, name, epoch, epsilon, win_ratio, avg_score, max_score, memory = args\n",
    "        self.win_ratio.append(win_ratio)\n",
    "        self.avg_score.append(avg_score)\n",
    "        #self.win_plt.marks[0].x = np.asarray(range(len(self.win_ratio)))\n",
    "        #self.win_plt.marks[0].y = np.asarray(self.win_ratio)\n",
    "        self.avg_plt.marks[0].x = np.asarray(range(len(self.avg_score)))\n",
    "        self.avg_plt.marks[0].y = np.asarray(self.avg_score)"
   ]
  },
  {
   "cell_type": "code",
   "execution_count": null,
   "metadata": {
    "scrolled": false
   },
   "outputs": [],
   "source": [
    "nb_frames, grid_size = 2, 12\n",
    "memory_size = 65536\n",
    "epochs = 100\n",
    "\n",
    "#game = rl.games.catch.Catch(grid_size, split_reward=True)\n",
    "#game = rl.games.fruit.Fruit(grid_size, with_poison=True)\n",
    "game = rl.games.snake.Snake(grid_size, max_turn=96)\n",
    "\n",
    "inp = keras.layers.Input(shape=(nb_frames, grid_size, grid_size, 3))\n",
    "x = keras.layers.Conv3D(32,7,padding='same',strides=1,activation='relu')(inp)\n",
    "x = keras.layers.Conv3D(64,3,padding='same',strides=1,activation='relu')(x)\n",
    "x = keras.layers.GlobalMaxPooling3D()(x)\n",
    "x = keras.layers.Dense(128, activation='relu')(x)\n",
    "act = keras.layers.Dense(game.nb_actions, activation='linear')(x)\n",
    "\n",
    "model = keras.models.Model(inputs=inp, outputs=act)\n",
    "model.compile(keras.optimizers.RMSprop(), keras.losses.LogCosh())\n",
    "model.summary()\n",
    "\n",
    "memory = rl.memory.basicmemory.BasicMemory(memory_size=memory_size)\n",
    "agent = rl.agents.ddqn.Agent(model, memory, with_target=True)\n",
    "\n",
    "stopEvent = threading.Event()\n",
    "gameStore = rl.callbacks.gamestore.GameStore()\n",
    "plotter = GamePlot(grid_size, grid_size, gameStore.gameQueue)\n",
    "histPlot = HistoryPlot(epochs)\n",
    "\n",
    "display(ipywidgets.HBox([plotter.canvas, histPlot.avg_plt]))\n",
    "\n",
    "stopEvent.clear()\n",
    "plotter.start()\n",
    "\n",
    "agent.train(game, batch_size=256, epochs=epochs, episodes=50, train_freq=32, target_sync=512,\n",
    "            epsilon_start=0.5, epsilon_decay=0.5, epsilon_final = 0.0,\n",
    "            gamma=0.95, reset_memory=False, observe=100, verbose=1,\n",
    "            callbacks = [gameStore, histPlot])\n",
    "\n",
    "stopEvent.set()"
   ]
  },
  {
   "cell_type": "code",
   "execution_count": null,
   "metadata": {
    "scrolled": true
   },
   "outputs": [],
   "source": []
  }
 ],
 "metadata": {
  "kernelspec": {
   "display_name": "Python 3",
   "language": "python",
   "name": "python3"
  },
  "language_info": {
   "codemirror_mode": {
    "name": "ipython",
    "version": 3
   },
   "file_extension": ".py",
   "mimetype": "text/x-python",
   "name": "python",
   "nbconvert_exporter": "python",
   "pygments_lexer": "ipython3",
   "version": "3.6.9"
  }
 },
 "nbformat": 4,
 "nbformat_minor": 4
}
