{
 "cells": [
  {
   "cell_type": "code",
   "execution_count": null,
   "metadata": {
    "scrolled": false
   },
   "outputs": [],
   "source": [
    "import os, io, threading, time\n",
    "\n",
    "os.environ['TF_CPP_MIN_LOG_LEVEL'] = '3'\n",
    "os.environ['TF_FORCE_GPU_ALLOW_GROWTH'] = 'true'\n",
    "\n",
    "import ipywidgets\n",
    "import PIL, PIL.Image\n",
    "import tensorflow as tf\n",
    "import tensorflow.keras as keras\n",
    "tf.get_logger().setLevel('ERROR')\n",
    "\n",
    "import rl.games.catch\n",
    "import rl.games.fruit\n",
    "import rl.games.snake\n",
    "import rl.games.tromis\n",
    "import rl.tools.gui\n",
    "import rl.callbacks.callback\n",
    "import rl.callbacks.gamestore\n",
    "import rl.agents.ddqn\n",
    "import rl.memory.basicmemory\n",
    "import rl.memory.uniqmemory"
   ]
  },
  {
   "cell_type": "code",
   "execution_count": null,
   "metadata": {},
   "outputs": [],
   "source": [
    "class GamePlot(threading.Thread):\n",
    "    def __init__(self, width, height, gameQueue):\n",
    "        threading.Thread.__init__(self, name=\"GamePlot\")\n",
    "        self.gameQueue = gameQueue\n",
    "        self.imbuf = io.BytesIO()\n",
    "        rx, ry = (256, int(height*256/width)) if (width > height) else (int(width*256/height), 256)\n",
    "        self.canvas = ipywidgets.Image(width=rx, height=ry)\n",
    "    def run(self):\n",
    "        while not stopEvent.isSet():\n",
    "            try: game = self.gameQueue.pop()\n",
    "            except IndexError: time.sleep(0.1)\n",
    "            else:\n",
    "                for frame in game:\n",
    "                    self.plot_frame(frame[0])\n",
    "                    time.sleep(0.1)\n",
    "                time.sleep(0.5)\n",
    "    def plot_frame(self, frame):\n",
    "        self.imbuf.seek(0)\n",
    "        fx, fy = frame.shape[0], frame.shape[1]\n",
    "        rx, ry = (256, int(fy*256/fx)) if (fx > fy) else (int(fx*256/fy), 256)\n",
    "        PIL.Image.fromarray((frame*255).astype('uint8')).resize((ry, rx), resample=PIL.Image.NEAREST).save(self.imbuf, 'gif')\n",
    "        self.canvas.value = self.imbuf.getvalue()"
   ]
  },
  {
   "cell_type": "code",
   "execution_count": null,
   "metadata": {
    "scrolled": false
   },
   "outputs": [],
   "source": [
    "class HistoryPlot(rl.callbacks.Callback):\n",
    "    def __init__(self):\n",
    "        pass\n",
    "    def epoch_end(self, *args):\n",
    "        model, name, epoch, epsilon, win_ratio, avg_score, max_score, memory = args"
   ]
  },
  {
   "cell_type": "code",
   "execution_count": null,
   "metadata": {
    "scrolled": false
   },
   "outputs": [],
   "source": [
    "nb_frames, grid_size = 1, 16\n",
    "memory_size = 4096\n",
    "\n",
    "game = rl.games.catch.Catch(grid_size)\n",
    "\n",
    "inp = keras.layers.Input(shape=(nb_frames, grid_size, grid_size, 3))\n",
    "x = keras.layers.Conv3D(16,5,padding='same',strides=1,activation='relu')(inp)\n",
    "x = keras.layers.Flatten()(x)\n",
    "x = keras.layers.Dense(32, activation='relu')(x)\n",
    "act = keras.layers.Dense(game.nb_actions, activation='linear')(x)\n",
    "\n",
    "model = keras.models.Model(inputs=inp, outputs=act)\n",
    "model.compile(keras.optimizers.RMSprop(), keras.losses.LogCosh())\n",
    "model.summary()\n",
    "\n",
    "memory = rl.memory.uniqmemory.UniqMemory(memory_size=memory_size)\n",
    "agent = rl.agents.ddqn.Agent(model, memory, with_target=True)\n",
    "\n",
    "stopEvent = threading.Event()\n",
    "gameStore = rl.callbacks.gamestore.GameStore()\n",
    "plotter = GamePlot(grid_size, grid_size, gameStore.gameQueue)\n",
    "display(plotter.canvas)\n",
    "\n",
    "stopEvent.clear()\n",
    "plotter.start()\n",
    "\n",
    "agent.train(game, batch_size=64, epochs=50, episodes=32, train_freq=8, target_sync=64,\n",
    "            epsilon_start=1.0, epsilon_decay=0.5, epsilon_final = 0.0,\n",
    "            gamma=0.98, reset_memory=False, observe=128, verbose=1,\n",
    "            callbacks = [gameStore])\n",
    "\n",
    "stopEvent.set()"
   ]
  },
  {
   "cell_type": "code",
   "execution_count": null,
   "metadata": {
    "scrolled": true
   },
   "outputs": [],
   "source": []
  }
 ],
 "metadata": {
  "kernelspec": {
   "display_name": "Python 3",
   "language": "python",
   "name": "python3"
  },
  "language_info": {
   "codemirror_mode": {
    "name": "ipython",
    "version": 3
   },
   "file_extension": ".py",
   "mimetype": "text/x-python",
   "name": "python",
   "nbconvert_exporter": "python",
   "pygments_lexer": "ipython3",
   "version": "3.5.2"
  }
 },
 "nbformat": 4,
 "nbformat_minor": 4
}
